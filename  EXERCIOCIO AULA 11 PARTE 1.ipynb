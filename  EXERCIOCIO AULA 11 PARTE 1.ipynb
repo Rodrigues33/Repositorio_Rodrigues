{
 "cells": [
  {
   "cell_type": "code",
   "execution_count": 15,
   "id": "f2680426",
   "metadata": {},
   "outputs": [
    {
     "name": "stdout",
     "output_type": "stream",
     "text": [
      "Quantidades de vendas de pepsi: 150\n",
      "Qual foi o faturamento de Pepsi da Loja: R$ 225.0\n"
     ]
    }
   ],
   "source": [
    "pepsi = float(input('Quantidades de vendas de pepsi: '))\n",
    "\n",
    "unidade1 = 1.50\n",
    "\n",
    "mult = (unidade1*pepsi)\n",
    "print ('Qual foi o faturamento de Pepsi da Loja: R$', mult)"
   ]
  },
  {
   "cell_type": "code",
   "execution_count": 17,
   "id": "ee5390d5",
   "metadata": {},
   "outputs": [
    {
     "name": "stdout",
     "output_type": "stream",
     "text": [
      "Quantidades de vendas de coca: 150\n",
      "Qual foi o faturamento de Pepsi da Loja: R$ 225.0\n"
     ]
    }
   ],
   "source": [
    "coca = float(input('Quantidades de vendas de coca: '))\n",
    "\n",
    "unidade1 = 1.50\n",
    "\n",
    "mult = (unidade1*pepsi)\n",
    "print ('Qual foi o faturamento de Pepsi da Loja: R$', mult)"
   ]
  },
  {
   "cell_type": "code",
   "execution_count": 18,
   "id": "32e30059",
   "metadata": {},
   "outputs": [
    {
     "name": "stdout",
     "output_type": "stream",
     "text": [
      "Qual foi o Lucro da loja R$ -447.5\n"
     ]
    }
   ],
   "source": [
    "coca = 225\n",
    "pepsi = 225\n",
    "custo = 2.500\n",
    "soma = custo-(coca+pepsi)\n",
    "print ('Qual foi o Lucro da loja R$', soma)"
   ]
  },
  {
   "cell_type": "code",
   "execution_count": 19,
   "id": "965b2f7a",
   "metadata": {},
   "outputs": [
    {
     "name": "stdout",
     "output_type": "stream",
     "text": [
      "Qual foi a Margem da Loja? -179.0\n"
     ]
    }
   ],
   "source": [
    "lucro = -447.5\n",
    "faturamento = 2.500\n",
    "\n",
    "margem = (lucro/faturamento)\n",
    "print ('Qual foi a Margem da Loja?', margem)"
   ]
  },
  {
   "cell_type": "code",
   "execution_count": 21,
   "id": "275e0d3b",
   "metadata": {},
   "outputs": [
    {
     "name": "stdout",
     "output_type": "stream",
     "text": [
      "coca é alcoolica? False\n",
      "pepsi é alcoolico? False\n",
      "coca não contém alcool? True\n",
      "vinho é alcoolico? True\n",
      "vodka é alcoolico?? True\n"
     ]
    }
   ],
   "source": [
    "a = 1 #coca recebe 1\n",
    "b = 5 #pepsi recebe 5\n",
    "c = 2 #vinho recebe 2\n",
    "d = 1 #vodka recebe 1\n",
    "\n",
    "\n",
    "\n",
    "print(\"coca é alcoolica?\" ,a == b) # a é igual a b?\n",
    "print(\"pepsi é alcoolico?\", b == a) # b maior que a?\n",
    "print(\"coca não contém alcool?\", a < b) # a menor que b?\n",
    "print(\"vinho é alcoolico?\", c <= b) # c é menor ou igual a b?\n",
    "print(\"vodka é alcoolico??\", d != b) # d é diferente de b?"
   ]
  },
  {
   "cell_type": "code",
   "execution_count": null,
   "id": "8bbd2063",
   "metadata": {},
   "outputs": [],
   "source": []
  }
 ],
 "metadata": {
  "kernelspec": {
   "display_name": "Python 3 (ipykernel)",
   "language": "python",
   "name": "python3"
  },
  "language_info": {
   "codemirror_mode": {
    "name": "ipython",
    "version": 3
   },
   "file_extension": ".py",
   "mimetype": "text/x-python",
   "name": "python",
   "nbconvert_exporter": "python",
   "pygments_lexer": "ipython3",
   "version": "3.9.7"
  }
 },
 "nbformat": 4,
 "nbformat_minor": 5
}
