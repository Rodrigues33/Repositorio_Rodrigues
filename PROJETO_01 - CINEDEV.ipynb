{
 "cells": [
  {
   "cell_type": "code",
   "execution_count": null,
   "id": "3660dafc",
   "metadata": {},
   "outputs": [
    {
     "name": "stdout",
     "output_type": "stream",
     "text": [
      "CINEDEVS\n",
      "Você dejesa comprar seu ingresso? sim\n",
      "qual sua idade?\n",
      "16\n",
      "  Escolha um filme\n",
      "  O massacre da serra eletrica\n",
      "  O semitério\n",
      "  Corrida do Macacos\n",
      "  Tá calor em Hollywood\n",
      "  Jennety & Jerry\n",
      "  Eu conheço você? 2\n",
      "  Alice no Pais das Maravilhas\n",
      "  Um Conto de Fadas\n",
      "  Bob Esponja\n"
     ]
    }
   ],
   "source": [
    "print ('CINEDEVS')\n",
    "\n",
    "pergunta_1 = input('Você dejesa comprar seu ingresso? ')\n",
    "if pergunta_1 == 'sim':\n",
    "    print('qual sua idade?')\n",
    "else:\n",
    "    print('Agradeçemos a sua preferencia!')                                \n",
    "idade_1 = float(input())  \n",
    "if idade_1 >= 18:\n",
    "    \n",
    "    print('  Escolha um filme')\n",
    "    print('  De pernas pro Ar 4')\n",
    "    print('  40 Sons de flauta')\n",
    "    print('  O massacre da serra eletrica')\n",
    "    print('  O semitério')\n",
    "    print('  Corrida do Macacos')\n",
    "    print('  Tá calor em Hollywood')\n",
    "    print('  Jennety & Jerry')\n",
    "    print('  Eu conheço você? 2')\n",
    "    print('  Alice no Pais das Maravilhas')\n",
    "    print('  Um Conto de Fadas')\n",
    "    print('  Bob Esponja')                         \n",
    "elif idade_1 >= 16:\n",
    "    print('  Escolha um filme')\n",
    "    print('  O massacre da serra eletrica')\n",
    "    print('  O semitério')\n",
    "    print('  Corrida do Macacos')\n",
    "    print('  Tá calor em Hollywood')\n",
    "    print('  Jennety & Jerry')\n",
    "    print('  Eu conheço você? 2')\n",
    "    print('  Alice no Pais das Maravilhas')\n",
    "    print('  Um Conto de Fadas')\n",
    "    print('  Bob Esponja')\n",
    "elif idade_1 >= 12:\n",
    "    print('  Escolha um filme')\n",
    "    print('  Jennety & Jerry')\n",
    "    print('  Eu conheço você? 2')\n",
    "    print('  Alice no Pais das Maravilhas')\n",
    "    print('  Um Conto de Fadas')\n",
    "    print('  Bob Esponja')\n",
    "else:\n",
    "    print('  Escolha um filme')\n",
    "    print('  Um Conto de Fadas')\n",
    "    print('  Bob Esponja')\n",
    "    \n",
    "    \n",
    "#idade_2 = (input())     \n",
    "\n",
    "pagamento = (input('Pagamento no credito ou no debito?'))\n",
    "if pagamento == 'debito':\n",
    "    print ('digite o seu cartão de 11 digitos')\n",
    "    senha = float(input())\n",
    "    print('compra realizada com sucesso, Tenha um ótimo filme')\n",
    "                  \n",
    "else:\n",
    "    print ('insira seu cartão') \n",
    "    finalização = input('deseja comfirmar a compra? ')\n",
    "    if finalização == 'sim':\n",
    "        print('Tenha um bom filme')\n",
    "    else:\n",
    "        ('Obrigado pela compreeção')\n",
    "  \n",
    "        \n",
    "    \n",
    "                  \n",
    "          \n",
    "                  "
   ]
  },
  {
   "cell_type": "code",
   "execution_count": null,
   "id": "cb73df0e",
   "metadata": {},
   "outputs": [],
   "source": []
  },
  {
   "cell_type": "code",
   "execution_count": null,
   "id": "998f41a8",
   "metadata": {},
   "outputs": [],
   "source": []
  },
  {
   "cell_type": "code",
   "execution_count": null,
   "id": "3186bf5f",
   "metadata": {},
   "outputs": [],
   "source": []
  }
 ],
 "metadata": {
  "kernelspec": {
   "display_name": "Python 3 (ipykernel)",
   "language": "python",
   "name": "python3"
  },
  "language_info": {
   "codemirror_mode": {
    "name": "ipython",
    "version": 3
   },
   "file_extension": ".py",
   "mimetype": "text/x-python",
   "name": "python",
   "nbconvert_exporter": "python",
   "pygments_lexer": "ipython3",
   "version": "3.9.7"
  }
 },
 "nbformat": 4,
 "nbformat_minor": 5
}
